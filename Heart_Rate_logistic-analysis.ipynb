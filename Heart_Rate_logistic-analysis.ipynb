{
 "cells": [
  {
   "cell_type": "code",
   "execution_count": 4,
   "metadata": {},
   "outputs": [],
   "source": [
    "%matplotlib inline\n",
    "import matplotlib.pyplot as plt\n",
    "import pandas as pd \n",
    "import numpy as np"
   ]
  },
  {
   "cell_type": "code",
   "execution_count": 5,
   "metadata": {},
   "outputs": [
    {
     "data": {
      "text/html": [
       "<div>\n",
       "<style scoped>\n",
       "    .dataframe tbody tr th:only-of-type {\n",
       "        vertical-align: middle;\n",
       "    }\n",
       "\n",
       "    .dataframe tbody tr th {\n",
       "        vertical-align: top;\n",
       "    }\n",
       "\n",
       "    .dataframe thead th {\n",
       "        text-align: right;\n",
       "    }\n",
       "</style>\n",
       "<table border=\"1\" class=\"dataframe\">\n",
       "  <thead>\n",
       "    <tr style=\"text-align: right;\">\n",
       "      <th></th>\n",
       "      <th>nsrrid</th>\n",
       "      <th>gender_x</th>\n",
       "      <th>race_x</th>\n",
       "      <th>age_s1_x</th>\n",
       "      <th>ang_date</th>\n",
       "      <th>chd_dthdt</th>\n",
       "      <th>chf_date</th>\n",
       "      <th>cvd_dthdt</th>\n",
       "      <th>mi_date</th>\n",
       "      <th>stk_date</th>\n",
       "      <th>...</th>\n",
       "      <th>ihr</th>\n",
       "      <th>NN_RR</th>\n",
       "      <th>AVNN</th>\n",
       "      <th>SDNN</th>\n",
       "      <th>VLF</th>\n",
       "      <th>LF</th>\n",
       "      <th>LF_n</th>\n",
       "      <th>HF</th>\n",
       "      <th>HF_n</th>\n",
       "      <th>LF_HF</th>\n",
       "    </tr>\n",
       "  </thead>\n",
       "  <tbody>\n",
       "    <tr>\n",
       "      <th>0</th>\n",
       "      <td>200079</td>\n",
       "      <td>2</td>\n",
       "      <td>3</td>\n",
       "      <td>56</td>\n",
       "      <td>NaN</td>\n",
       "      <td>NaN</td>\n",
       "      <td>NaN</td>\n",
       "      <td>NaN</td>\n",
       "      <td>NaN</td>\n",
       "      <td>NaN</td>\n",
       "      <td>...</td>\n",
       "      <td>75.112951</td>\n",
       "      <td>0.992000</td>\n",
       "      <td>798.797</td>\n",
       "      <td>46.2118</td>\n",
       "      <td>695.6390</td>\n",
       "      <td>285.530</td>\n",
       "      <td>0.256639</td>\n",
       "      <td>827.0460</td>\n",
       "      <td>0.743361</td>\n",
       "      <td>0.345241</td>\n",
       "    </tr>\n",
       "    <tr>\n",
       "      <th>1</th>\n",
       "      <td>200079</td>\n",
       "      <td>2</td>\n",
       "      <td>3</td>\n",
       "      <td>56</td>\n",
       "      <td>NaN</td>\n",
       "      <td>NaN</td>\n",
       "      <td>NaN</td>\n",
       "      <td>NaN</td>\n",
       "      <td>NaN</td>\n",
       "      <td>NaN</td>\n",
       "      <td>...</td>\n",
       "      <td>70.633025</td>\n",
       "      <td>0.968839</td>\n",
       "      <td>849.461</td>\n",
       "      <td>72.6343</td>\n",
       "      <td>1234.8283</td>\n",
       "      <td>1666.850</td>\n",
       "      <td>0.507907</td>\n",
       "      <td>1614.9500</td>\n",
       "      <td>0.492093</td>\n",
       "      <td>1.032140</td>\n",
       "    </tr>\n",
       "    <tr>\n",
       "      <th>2</th>\n",
       "      <td>200082</td>\n",
       "      <td>1</td>\n",
       "      <td>1</td>\n",
       "      <td>40</td>\n",
       "      <td>NaN</td>\n",
       "      <td>NaN</td>\n",
       "      <td>NaN</td>\n",
       "      <td>NaN</td>\n",
       "      <td>NaN</td>\n",
       "      <td>NaN</td>\n",
       "      <td>...</td>\n",
       "      <td>59.355400</td>\n",
       "      <td>0.996610</td>\n",
       "      <td>1010.860</td>\n",
       "      <td>39.4332</td>\n",
       "      <td>739.2121</td>\n",
       "      <td>531.024</td>\n",
       "      <td>0.686206</td>\n",
       "      <td>242.8310</td>\n",
       "      <td>0.313794</td>\n",
       "      <td>2.186800</td>\n",
       "    </tr>\n",
       "    <tr>\n",
       "      <th>3</th>\n",
       "      <td>200082</td>\n",
       "      <td>1</td>\n",
       "      <td>1</td>\n",
       "      <td>40</td>\n",
       "      <td>NaN</td>\n",
       "      <td>NaN</td>\n",
       "      <td>NaN</td>\n",
       "      <td>NaN</td>\n",
       "      <td>NaN</td>\n",
       "      <td>NaN</td>\n",
       "      <td>...</td>\n",
       "      <td>56.666320</td>\n",
       "      <td>0.996466</td>\n",
       "      <td>1058.830</td>\n",
       "      <td>146.8230</td>\n",
       "      <td>13231.3000</td>\n",
       "      <td>3964.450</td>\n",
       "      <td>0.378345</td>\n",
       "      <td>6513.9400</td>\n",
       "      <td>0.621655</td>\n",
       "      <td>0.608610</td>\n",
       "    </tr>\n",
       "    <tr>\n",
       "      <th>4</th>\n",
       "      <td>200108</td>\n",
       "      <td>2</td>\n",
       "      <td>1</td>\n",
       "      <td>60</td>\n",
       "      <td>NaN</td>\n",
       "      <td>NaN</td>\n",
       "      <td>NaN</td>\n",
       "      <td>NaN</td>\n",
       "      <td>NaN</td>\n",
       "      <td>NaN</td>\n",
       "      <td>...</td>\n",
       "      <td>64.954397</td>\n",
       "      <td>0.990741</td>\n",
       "      <td>923.725</td>\n",
       "      <td>27.7213</td>\n",
       "      <td>532.0790</td>\n",
       "      <td>168.406</td>\n",
       "      <td>0.672796</td>\n",
       "      <td>81.9015</td>\n",
       "      <td>0.327204</td>\n",
       "      <td>2.056200</td>\n",
       "    </tr>\n",
       "  </tbody>\n",
       "</table>\n",
       "<p>5 rows × 45 columns</p>\n",
       "</div>"
      ],
      "text/plain": [
       "   nsrrid  gender_x  race_x  age_s1_x  ang_date  chd_dthdt  chf_date  \\\n",
       "0  200079         2       3        56       NaN        NaN       NaN   \n",
       "1  200079         2       3        56       NaN        NaN       NaN   \n",
       "2  200082         1       1        40       NaN        NaN       NaN   \n",
       "3  200082         1       1        40       NaN        NaN       NaN   \n",
       "4  200108         2       1        60       NaN        NaN       NaN   \n",
       "\n",
       "   cvd_dthdt  mi_date  stk_date  ...        ihr     NN_RR      AVNN      SDNN  \\\n",
       "0        NaN      NaN       NaN  ...  75.112951  0.992000   798.797   46.2118   \n",
       "1        NaN      NaN       NaN  ...  70.633025  0.968839   849.461   72.6343   \n",
       "2        NaN      NaN       NaN  ...  59.355400  0.996610  1010.860   39.4332   \n",
       "3        NaN      NaN       NaN  ...  56.666320  0.996466  1058.830  146.8230   \n",
       "4        NaN      NaN       NaN  ...  64.954397  0.990741   923.725   27.7213   \n",
       "\n",
       "          VLF        LF      LF_n         HF      HF_n     LF_HF  \n",
       "0    695.6390   285.530  0.256639   827.0460  0.743361  0.345241  \n",
       "1   1234.8283  1666.850  0.507907  1614.9500  0.492093  1.032140  \n",
       "2    739.2121   531.024  0.686206   242.8310  0.313794  2.186800  \n",
       "3  13231.3000  3964.450  0.378345  6513.9400  0.621655  0.608610  \n",
       "4    532.0790   168.406  0.672796    81.9015  0.327204  2.056200  \n",
       "\n",
       "[5 rows x 45 columns]"
      ]
     },
     "execution_count": 5,
     "metadata": {},
     "output_type": "execute_result"
    }
   ],
   "source": [
    "data = pd.read_csv(\"Qmerge1-FirstLastHRV.csv\") \n",
    "data.head()\n"
   ]
  },
  {
   "cell_type": "markdown",
   "metadata": {},
   "source": [
    "## Column Names description\n",
    "1. nsrrid = This subject identifier was created by the National Sleep Research Resource (NSRR) team to more easily match with file downloads. Use 'pptid' to link with Biologic Specimen and Data Repository Information Coordinating Center (BioLINCC) and cohort-specific data.\n",
    "\n",
    "2. BLUE25 = Quality of Life (QOL) (Sleep Heart Health Study Visit One (SHHS1)): Felt downhearted and blue. \n",
    "        1: All of the time\n",
    "        2: Most of the time\n",
    "        3: A good bit of the time\n",
    "        4: Some of the time\n",
    "        5: A little of time\n",
    "        6: None of the time\n",
    "\n",
    "3. ihr = Instantaneous heart rate\n",
    "\n",
    "4. NN_RR = Ratio of consecutive normal sinus beats (NN) over all cardiac inter-beat (RR) intervals\n",
    "\n",
    "5. AVNN = Mean of all normal sinus to normal sinus interbeat intervals (NN) \n",
    "\n",
    "6. SDNN = Standard deviation of all normal sinus to normal sinus interbeat (NN) intervals\n",
    "\n",
    "7. VLF = Very low frequency power: the normal sinus to normal sinus interbeat (NN) interval spectral power between 0.003 and 0.04 Hz\n",
    "\n",
    "8. LF = Low frequency power: the normal sinus to normal sinus interbeat (NN) interval spectral power between 0.04 and 0.15 Hz\n",
    "\n",
    "9. HF = High frequency power: the normal sinus to normal sinus interbeat (NN) interval spectral power between 0.15 and 0.4 Hz\n",
    "\n",
    "10. HF_n = High frequency power (normalized)\n",
    "\n",
    "11. LF_HF = The ratio of low to high frequency power"
   ]
  },
  {
   "cell_type": "code",
   "execution_count": 6,
   "metadata": {},
   "outputs": [],
   "source": [
    "heart_rate_data = data.copy()"
   ]
  },
  {
   "cell_type": "code",
   "execution_count": 7,
   "metadata": {},
   "outputs": [],
   "source": [
    "heart_rate_data = heart_rate_data[['nsrrid', 'gender_x', 'race_x', 'age_s1_x', 'BLUE25', 'ihr', 'NN_RR', 'AVNN', 'SDNN', 'VLF', 'LF', 'HF', 'HF_n', 'LF_HF']]"
   ]
  },
  {
   "cell_type": "code",
   "execution_count": 8,
   "metadata": {},
   "outputs": [
    {
     "data": {
      "text/plain": [
       "972"
      ]
     },
     "execution_count": 8,
     "metadata": {},
     "output_type": "execute_result"
    }
   ],
   "source": [
    "heart_rate_data.head()\n",
    "heart_rate_data.shape[0]"
   ]
  },
  {
   "cell_type": "code",
   "execution_count": 9,
   "metadata": {},
   "outputs": [
    {
     "data": {
      "text/plain": [
       "486"
      ]
     },
     "execution_count": 9,
     "metadata": {},
     "output_type": "execute_result"
    }
   ],
   "source": [
    "# Skipping every other row, to reemove duplicate rows\n",
    "heart_rate_data = heart_rate_data[::2]\n",
    "heart_rate_data.head()\n",
    "heart_rate_data.shape[0] # row count"
   ]
  },
  {
   "cell_type": "code",
   "execution_count": 10,
   "metadata": {},
   "outputs": [
    {
     "name": "stderr",
     "output_type": "stream",
     "text": [
      "/anaconda3/lib/python3.6/site-packages/pandas/core/ops.py:1649: FutureWarning: elementwise comparison failed; returning scalar instead, but in the future will perform elementwise comparison\n",
      "  result = method(y)\n"
     ]
    },
    {
     "data": {
      "text/html": [
       "<div>\n",
       "<style scoped>\n",
       "    .dataframe tbody tr th:only-of-type {\n",
       "        vertical-align: middle;\n",
       "    }\n",
       "\n",
       "    .dataframe tbody tr th {\n",
       "        vertical-align: top;\n",
       "    }\n",
       "\n",
       "    .dataframe thead th {\n",
       "        text-align: right;\n",
       "    }\n",
       "</style>\n",
       "<table border=\"1\" class=\"dataframe\">\n",
       "  <thead>\n",
       "    <tr style=\"text-align: right;\">\n",
       "      <th></th>\n",
       "      <th>nsrrid</th>\n",
       "      <th>Gender</th>\n",
       "      <th>Race</th>\n",
       "      <th>Age</th>\n",
       "      <th>BLUE25</th>\n",
       "      <th>ihr</th>\n",
       "      <th>NN_RR</th>\n",
       "      <th>AVNN</th>\n",
       "      <th>SDNN</th>\n",
       "      <th>VLF</th>\n",
       "      <th>LF</th>\n",
       "      <th>HF</th>\n",
       "      <th>HF_n</th>\n",
       "      <th>LF_HF</th>\n",
       "    </tr>\n",
       "  </thead>\n",
       "  <tbody>\n",
       "    <tr>\n",
       "      <th>0</th>\n",
       "      <td>200079</td>\n",
       "      <td>2</td>\n",
       "      <td>3</td>\n",
       "      <td>56</td>\n",
       "      <td>5.0</td>\n",
       "      <td>75.112951</td>\n",
       "      <td>0.992000</td>\n",
       "      <td>798.797</td>\n",
       "      <td>46.21180</td>\n",
       "      <td>695.6390</td>\n",
       "      <td>285.53000</td>\n",
       "      <td>827.04600</td>\n",
       "      <td>0.743361</td>\n",
       "      <td>0.345241</td>\n",
       "    </tr>\n",
       "    <tr>\n",
       "      <th>2</th>\n",
       "      <td>200082</td>\n",
       "      <td>1</td>\n",
       "      <td>1</td>\n",
       "      <td>40</td>\n",
       "      <td>6.0</td>\n",
       "      <td>59.355400</td>\n",
       "      <td>0.996610</td>\n",
       "      <td>1010.860</td>\n",
       "      <td>39.43320</td>\n",
       "      <td>739.2121</td>\n",
       "      <td>531.02400</td>\n",
       "      <td>242.83100</td>\n",
       "      <td>0.313794</td>\n",
       "      <td>2.186800</td>\n",
       "    </tr>\n",
       "    <tr>\n",
       "      <th>4</th>\n",
       "      <td>200108</td>\n",
       "      <td>2</td>\n",
       "      <td>1</td>\n",
       "      <td>60</td>\n",
       "      <td>5.0</td>\n",
       "      <td>64.954397</td>\n",
       "      <td>0.990741</td>\n",
       "      <td>923.725</td>\n",
       "      <td>27.72130</td>\n",
       "      <td>532.0790</td>\n",
       "      <td>168.40600</td>\n",
       "      <td>81.90150</td>\n",
       "      <td>0.327204</td>\n",
       "      <td>2.056200</td>\n",
       "    </tr>\n",
       "    <tr>\n",
       "      <th>6</th>\n",
       "      <td>200109</td>\n",
       "      <td>2</td>\n",
       "      <td>1</td>\n",
       "      <td>71</td>\n",
       "      <td>6.0</td>\n",
       "      <td>76.865428</td>\n",
       "      <td>0.997389</td>\n",
       "      <td>780.585</td>\n",
       "      <td>8.41453</td>\n",
       "      <td>55.3561</td>\n",
       "      <td>8.87934</td>\n",
       "      <td>4.38036</td>\n",
       "      <td>0.330351</td>\n",
       "      <td>2.027080</td>\n",
       "    </tr>\n",
       "    <tr>\n",
       "      <th>8</th>\n",
       "      <td>200112</td>\n",
       "      <td>1</td>\n",
       "      <td>1</td>\n",
       "      <td>48</td>\n",
       "      <td>5.0</td>\n",
       "      <td>62.348286</td>\n",
       "      <td>0.996785</td>\n",
       "      <td>962.336</td>\n",
       "      <td>88.53440</td>\n",
       "      <td>3987.3524</td>\n",
       "      <td>3269.69000</td>\n",
       "      <td>292.34900</td>\n",
       "      <td>0.082073</td>\n",
       "      <td>11.184200</td>\n",
       "    </tr>\n",
       "  </tbody>\n",
       "</table>\n",
       "</div>"
      ],
      "text/plain": [
       "   nsrrid  Gender  Race  Age  BLUE25        ihr     NN_RR      AVNN      SDNN  \\\n",
       "0  200079       2     3   56     5.0  75.112951  0.992000   798.797  46.21180   \n",
       "2  200082       1     1   40     6.0  59.355400  0.996610  1010.860  39.43320   \n",
       "4  200108       2     1   60     5.0  64.954397  0.990741   923.725  27.72130   \n",
       "6  200109       2     1   71     6.0  76.865428  0.997389   780.585   8.41453   \n",
       "8  200112       1     1   48     5.0  62.348286  0.996785   962.336  88.53440   \n",
       "\n",
       "         VLF          LF         HF      HF_n      LF_HF  \n",
       "0   695.6390   285.53000  827.04600  0.743361   0.345241  \n",
       "2   739.2121   531.02400  242.83100  0.313794   2.186800  \n",
       "4   532.0790   168.40600   81.90150  0.327204   2.056200  \n",
       "6    55.3561     8.87934    4.38036  0.330351   2.027080  \n",
       "8  3987.3524  3269.69000  292.34900  0.082073  11.184200  "
      ]
     },
     "execution_count": 10,
     "metadata": {},
     "output_type": "execute_result"
    }
   ],
   "source": [
    "# Renaming columns \n",
    "heart_rate_data = heart_rate_data.rename(index=str, columns={'gender_x': 'Gender', 'race_x': 'Race', 'age_s1_x': 'Age'})\n",
    "heart_rate_data = heart_rate_data[heart_rate_data['BLUE25'] != 'NAN']\n",
    "heart_rate_data.head()"
   ]
  },
  {
   "cell_type": "code",
   "execution_count": 11,
   "metadata": {},
   "outputs": [
    {
     "name": "stderr",
     "output_type": "stream",
     "text": [
      "/anaconda3/lib/python3.6/site-packages/pandas/core/indexing.py:543: SettingWithCopyWarning: \n",
      "A value is trying to be set on a copy of a slice from a DataFrame.\n",
      "Try using .loc[row_indexer,col_indexer] = value instead\n",
      "\n",
      "See the caveats in the documentation: http://pandas.pydata.org/pandas-docs/stable/indexing.html#indexing-view-versus-copy\n",
      "  self.obj[item] = s\n"
     ]
    },
    {
     "data": {
      "text/html": [
       "<div>\n",
       "<style scoped>\n",
       "    .dataframe tbody tr th:only-of-type {\n",
       "        vertical-align: middle;\n",
       "    }\n",
       "\n",
       "    .dataframe tbody tr th {\n",
       "        vertical-align: top;\n",
       "    }\n",
       "\n",
       "    .dataframe thead th {\n",
       "        text-align: right;\n",
       "    }\n",
       "</style>\n",
       "<table border=\"1\" class=\"dataframe\">\n",
       "  <thead>\n",
       "    <tr style=\"text-align: right;\">\n",
       "      <th></th>\n",
       "      <th>nsrrid</th>\n",
       "      <th>Gender</th>\n",
       "      <th>Race</th>\n",
       "      <th>Age</th>\n",
       "      <th>BLUE25</th>\n",
       "      <th>ihr</th>\n",
       "      <th>NN_RR</th>\n",
       "      <th>AVNN</th>\n",
       "      <th>SDNN</th>\n",
       "      <th>VLF</th>\n",
       "      <th>LF</th>\n",
       "      <th>HF</th>\n",
       "      <th>HF_n</th>\n",
       "      <th>LF_HF</th>\n",
       "    </tr>\n",
       "  </thead>\n",
       "  <tbody>\n",
       "    <tr>\n",
       "      <th>0</th>\n",
       "      <td>200079</td>\n",
       "      <td>2</td>\n",
       "      <td>3</td>\n",
       "      <td>56</td>\n",
       "      <td>1.0</td>\n",
       "      <td>75.112951</td>\n",
       "      <td>0.99200</td>\n",
       "      <td>798.797</td>\n",
       "      <td>46.2118</td>\n",
       "      <td>695.6390</td>\n",
       "      <td>285.530</td>\n",
       "      <td>827.046</td>\n",
       "      <td>0.743361</td>\n",
       "      <td>0.345241</td>\n",
       "    </tr>\n",
       "    <tr>\n",
       "      <th>2</th>\n",
       "      <td>200082</td>\n",
       "      <td>1</td>\n",
       "      <td>1</td>\n",
       "      <td>40</td>\n",
       "      <td>1.0</td>\n",
       "      <td>59.355400</td>\n",
       "      <td>0.99661</td>\n",
       "      <td>1010.860</td>\n",
       "      <td>39.4332</td>\n",
       "      <td>739.2121</td>\n",
       "      <td>531.024</td>\n",
       "      <td>242.831</td>\n",
       "      <td>0.313794</td>\n",
       "      <td>2.186800</td>\n",
       "    </tr>\n",
       "  </tbody>\n",
       "</table>\n",
       "</div>"
      ],
      "text/plain": [
       "   nsrrid  Gender  Race  Age  BLUE25        ihr    NN_RR      AVNN     SDNN  \\\n",
       "0  200079       2     3   56     1.0  75.112951  0.99200   798.797  46.2118   \n",
       "2  200082       1     1   40     1.0  59.355400  0.99661  1010.860  39.4332   \n",
       "\n",
       "        VLF       LF       HF      HF_n     LF_HF  \n",
       "0  695.6390  285.530  827.046  0.743361  0.345241  \n",
       "2  739.2121  531.024  242.831  0.313794  2.186800  "
      ]
     },
     "execution_count": 11,
     "metadata": {},
     "output_type": "execute_result"
    }
   ],
   "source": [
    "dep_data = heart_rate_data.dropna(axis=0, how='any')\n",
    "dep_data.shape[0]\n",
    "\n",
    "dep_data.loc[dep_data['BLUE25'] < 4, 'BLUE25'] = 0\n",
    "dep_data.loc[dep_data['BLUE25'] >= 4, 'BLUE25'] = 1\n",
    "dep_data.head(2)"
   ]
  },
  {
   "cell_type": "code",
   "execution_count": 12,
   "metadata": {},
   "outputs": [
    {
     "data": {
      "text/plain": [
       "nsrrid      int64\n",
       "Gender      int64\n",
       "Race        int64\n",
       "Age         int64\n",
       "BLUE25    float64\n",
       "ihr       float64\n",
       "NN_RR     float64\n",
       "AVNN      float64\n",
       "SDNN      float64\n",
       "VLF       float64\n",
       "LF        float64\n",
       "HF        float64\n",
       "HF_n      float64\n",
       "LF_HF     float64\n",
       "dtype: object"
      ]
     },
     "execution_count": 12,
     "metadata": {},
     "output_type": "execute_result"
    }
   ],
   "source": [
    "dep_data.dtypes"
   ]
  },
  {
   "cell_type": "code",
   "execution_count": 13,
   "metadata": {},
   "outputs": [],
   "source": [
    "heart_data = dep_data[['BLUE25', 'ihr', 'NN_RR', 'AVNN', 'SDNN', 'VLF', 'LF', 'HF', 'HF_n', 'LF_HF']]"
   ]
  },
  {
   "cell_type": "code",
   "execution_count": 14,
   "metadata": {},
   "outputs": [],
   "source": [
    "X = heart_data.drop('BLUE25', axis = 1)  #X = df1.drop('ql209f', axis = 1)\n",
    "y = heart_data['BLUE25']\n",
    "y_new = dep_data['BLUE25'].unique()\n"
   ]
  },
  {
   "cell_type": "code",
   "execution_count": 15,
   "metadata": {},
   "outputs": [
    {
     "data": {
      "text/plain": [
       "LogisticRegression(C=1.0, class_weight=None, dual=False, fit_intercept=True,\n",
       "          intercept_scaling=1, max_iter=100, multi_class='warn',\n",
       "          n_jobs=None, penalty='l2', random_state=None, solver='warn',\n",
       "          tol=0.0001, verbose=0, warm_start=False)"
      ]
     },
     "execution_count": 15,
     "metadata": {},
     "output_type": "execute_result"
    }
   ],
   "source": [
    "from sklearn.linear_model import LogisticRegression\n",
    "classifier = LogisticRegression()\n",
    "classifier"
   ]
  },
  {
   "cell_type": "code",
   "execution_count": 16,
   "metadata": {},
   "outputs": [],
   "source": [
    "from sklearn.model_selection import train_test_split\n",
    "\n",
    "X_train, X_test, y_train, y_test = train_test_split(X, y, random_state=1)"
   ]
  },
  {
   "cell_type": "code",
   "execution_count": 17,
   "metadata": {},
   "outputs": [
    {
     "name": "stderr",
     "output_type": "stream",
     "text": [
      "/anaconda3/lib/python3.6/site-packages/sklearn/linear_model/logistic.py:433: FutureWarning: Default solver will be changed to 'lbfgs' in 0.22. Specify a solver to silence this warning.\n",
      "  FutureWarning)\n"
     ]
    },
    {
     "data": {
      "text/plain": [
       "LogisticRegression(C=1.0, class_weight=None, dual=False, fit_intercept=True,\n",
       "          intercept_scaling=1, max_iter=100, multi_class='warn',\n",
       "          n_jobs=None, penalty='l2', random_state=None, solver='warn',\n",
       "          tol=0.0001, verbose=0, warm_start=False)"
      ]
     },
     "execution_count": 17,
     "metadata": {},
     "output_type": "execute_result"
    }
   ],
   "source": [
    "classifier.fit(X_train, y_train)"
   ]
  },
  {
   "cell_type": "code",
   "execution_count": 18,
   "metadata": {},
   "outputs": [
    {
     "name": "stdout",
     "output_type": "stream",
     "text": [
      "Training Data Score: 0.9821428571428571\n",
      "Testing Data Score: 0.9557522123893806\n"
     ]
    },
    {
     "data": {
      "text/html": [
       "<div>\n",
       "<style scoped>\n",
       "    .dataframe tbody tr th:only-of-type {\n",
       "        vertical-align: middle;\n",
       "    }\n",
       "\n",
       "    .dataframe tbody tr th {\n",
       "        vertical-align: top;\n",
       "    }\n",
       "\n",
       "    .dataframe thead th {\n",
       "        text-align: right;\n",
       "    }\n",
       "</style>\n",
       "<table border=\"1\" class=\"dataframe\">\n",
       "  <thead>\n",
       "    <tr style=\"text-align: right;\">\n",
       "      <th></th>\n",
       "      <th>ihr</th>\n",
       "      <th>NN_RR</th>\n",
       "      <th>AVNN</th>\n",
       "      <th>SDNN</th>\n",
       "      <th>VLF</th>\n",
       "      <th>LF</th>\n",
       "      <th>HF</th>\n",
       "      <th>HF_n</th>\n",
       "      <th>LF_HF</th>\n",
       "    </tr>\n",
       "  </thead>\n",
       "  <tbody>\n",
       "    <tr>\n",
       "      <th>652</th>\n",
       "      <td>64.508291</td>\n",
       "      <td>0.996894</td>\n",
       "      <td>930.113</td>\n",
       "      <td>49.6384</td>\n",
       "      <td>1092.66050</td>\n",
       "      <td>692.828</td>\n",
       "      <td>780.8260</td>\n",
       "      <td>0.529857</td>\n",
       "      <td>0.887301</td>\n",
       "    </tr>\n",
       "    <tr>\n",
       "      <th>624</th>\n",
       "      <td>69.625196</td>\n",
       "      <td>0.997118</td>\n",
       "      <td>861.757</td>\n",
       "      <td>30.3586</td>\n",
       "      <td>341.33360</td>\n",
       "      <td>409.583</td>\n",
       "      <td>165.0230</td>\n",
       "      <td>0.287193</td>\n",
       "      <td>2.481980</td>\n",
       "    </tr>\n",
       "    <tr>\n",
       "      <th>378</th>\n",
       "      <td>66.864660</td>\n",
       "      <td>0.997006</td>\n",
       "      <td>897.335</td>\n",
       "      <td>31.9392</td>\n",
       "      <td>577.38100</td>\n",
       "      <td>330.938</td>\n",
       "      <td>118.2970</td>\n",
       "      <td>0.263330</td>\n",
       "      <td>2.797520</td>\n",
       "    </tr>\n",
       "    <tr>\n",
       "      <th>62</th>\n",
       "      <td>73.294886</td>\n",
       "      <td>0.997268</td>\n",
       "      <td>818.611</td>\n",
       "      <td>30.2603</td>\n",
       "      <td>448.75243</td>\n",
       "      <td>292.491</td>\n",
       "      <td>172.6830</td>\n",
       "      <td>0.371222</td>\n",
       "      <td>1.693800</td>\n",
       "    </tr>\n",
       "    <tr>\n",
       "      <th>466</th>\n",
       "      <td>70.593384</td>\n",
       "      <td>0.997159</td>\n",
       "      <td>849.938</td>\n",
       "      <td>20.2343</td>\n",
       "      <td>185.56210</td>\n",
       "      <td>118.909</td>\n",
       "      <td>88.7831</td>\n",
       "      <td>0.427475</td>\n",
       "      <td>1.339320</td>\n",
       "    </tr>\n",
       "  </tbody>\n",
       "</table>\n",
       "</div>"
      ],
      "text/plain": [
       "           ihr     NN_RR     AVNN     SDNN         VLF       LF        HF  \\\n",
       "652  64.508291  0.996894  930.113  49.6384  1092.66050  692.828  780.8260   \n",
       "624  69.625196  0.997118  861.757  30.3586   341.33360  409.583  165.0230   \n",
       "378  66.864660  0.997006  897.335  31.9392   577.38100  330.938  118.2970   \n",
       "62   73.294886  0.997268  818.611  30.2603   448.75243  292.491  172.6830   \n",
       "466  70.593384  0.997159  849.938  20.2343   185.56210  118.909   88.7831   \n",
       "\n",
       "         HF_n     LF_HF  \n",
       "652  0.529857  0.887301  \n",
       "624  0.287193  2.481980  \n",
       "378  0.263330  2.797520  \n",
       "62   0.371222  1.693800  \n",
       "466  0.427475  1.339320  "
      ]
     },
     "execution_count": 18,
     "metadata": {},
     "output_type": "execute_result"
    }
   ],
   "source": [
    "print(f\"Training Data Score: {classifier.score(X_train, y_train)}\")\n",
    "print(f\"Testing Data Score: {classifier.score(X_test, y_test)}\")\n",
    "X_test.head()"
   ]
  },
  {
   "cell_type": "code",
   "execution_count": 19,
   "metadata": {},
   "outputs": [],
   "source": [
    "predictions = classifier.predict(X_test)"
   ]
  },
  {
   "cell_type": "code",
   "execution_count": 20,
   "metadata": {},
   "outputs": [
    {
     "data": {
      "text/plain": [
       "array([1.])"
      ]
     },
     "execution_count": 20,
     "metadata": {},
     "output_type": "execute_result"
    }
   ],
   "source": [
    "new_data = [00.508291, -0.996894, -930.113, -49.6384, -1092.66050, 692.828, 780.8260, 0.529857, 0.887301]\n",
    "predictions = classifier.predict([new_data])\n",
    "predictions"
   ]
  }
 ],
 "metadata": {
  "kernelspec": {
   "display_name": "Python 3",
   "language": "python",
   "name": "python3"
  },
  "language_info": {
   "codemirror_mode": {
    "name": "ipython",
    "version": 3
   },
   "file_extension": ".py",
   "mimetype": "text/x-python",
   "name": "python",
   "nbconvert_exporter": "python",
   "pygments_lexer": "ipython3",
   "version": "3.6.8"
  }
 },
 "nbformat": 4,
 "nbformat_minor": 2
}
