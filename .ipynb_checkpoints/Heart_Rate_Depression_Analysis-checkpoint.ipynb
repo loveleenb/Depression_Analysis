{
 "cells": [
  {
   "cell_type": "markdown",
   "metadata": {},
   "source": [
    "# Depression prediction using heart rate variability "
   ]
  },
  {
   "cell_type": "code",
   "execution_count": 39,
   "metadata": {},
   "outputs": [],
   "source": [
    "# importing libraries\n",
    "%matplotlib inline\n",
    "import matplotlib.pyplot as plt\n",
    "import pandas as pd \n",
    "import numpy as np\n",
    "from sklearn import preprocessing\n",
    "import matplotlib.pyplot as plt \n",
    "plt.rc(\"font\", size=14)\n",
    "from sklearn.linear_model import LogisticRegression\n",
    "from sklearn.model_selection import train_test_split\n",
    "import seaborn as sns\n",
    "sns.set(style=\"white\")\n",
    "sns.set(style=\"whitegrid\", color_codes=True)"
   ]
  },
  {
   "cell_type": "code",
   "execution_count": 4,
   "metadata": {},
   "outputs": [
    {
     "data": {
      "text/html": [
       "<div>\n",
       "<style scoped>\n",
       "    .dataframe tbody tr th:only-of-type {\n",
       "        vertical-align: middle;\n",
       "    }\n",
       "\n",
       "    .dataframe tbody tr th {\n",
       "        vertical-align: top;\n",
       "    }\n",
       "\n",
       "    .dataframe thead th {\n",
       "        text-align: right;\n",
       "    }\n",
       "</style>\n",
       "<table border=\"1\" class=\"dataframe\">\n",
       "  <thead>\n",
       "    <tr style=\"text-align: right;\">\n",
       "      <th></th>\n",
       "      <th>nsrrid</th>\n",
       "      <th>gender_x</th>\n",
       "      <th>race_x</th>\n",
       "      <th>age_s1_x</th>\n",
       "      <th>ang_date</th>\n",
       "      <th>chd_dthdt</th>\n",
       "      <th>chf_date</th>\n",
       "      <th>cvd_dthdt</th>\n",
       "      <th>mi_date</th>\n",
       "      <th>stk_date</th>\n",
       "      <th>...</th>\n",
       "      <th>ihr</th>\n",
       "      <th>NN_RR</th>\n",
       "      <th>AVNN</th>\n",
       "      <th>SDNN</th>\n",
       "      <th>VLF</th>\n",
       "      <th>LF</th>\n",
       "      <th>LF_n</th>\n",
       "      <th>HF</th>\n",
       "      <th>HF_n</th>\n",
       "      <th>LF_HF</th>\n",
       "    </tr>\n",
       "  </thead>\n",
       "  <tbody>\n",
       "    <tr>\n",
       "      <th>0</th>\n",
       "      <td>200079</td>\n",
       "      <td>2</td>\n",
       "      <td>3</td>\n",
       "      <td>56</td>\n",
       "      <td>NaN</td>\n",
       "      <td>NaN</td>\n",
       "      <td>NaN</td>\n",
       "      <td>NaN</td>\n",
       "      <td>NaN</td>\n",
       "      <td>NaN</td>\n",
       "      <td>...</td>\n",
       "      <td>75.112951</td>\n",
       "      <td>0.992000</td>\n",
       "      <td>798.797</td>\n",
       "      <td>46.2118</td>\n",
       "      <td>695.6390</td>\n",
       "      <td>285.530</td>\n",
       "      <td>0.256639</td>\n",
       "      <td>827.0460</td>\n",
       "      <td>0.743361</td>\n",
       "      <td>0.345241</td>\n",
       "    </tr>\n",
       "    <tr>\n",
       "      <th>1</th>\n",
       "      <td>200079</td>\n",
       "      <td>2</td>\n",
       "      <td>3</td>\n",
       "      <td>56</td>\n",
       "      <td>NaN</td>\n",
       "      <td>NaN</td>\n",
       "      <td>NaN</td>\n",
       "      <td>NaN</td>\n",
       "      <td>NaN</td>\n",
       "      <td>NaN</td>\n",
       "      <td>...</td>\n",
       "      <td>70.633025</td>\n",
       "      <td>0.968839</td>\n",
       "      <td>849.461</td>\n",
       "      <td>72.6343</td>\n",
       "      <td>1234.8283</td>\n",
       "      <td>1666.850</td>\n",
       "      <td>0.507907</td>\n",
       "      <td>1614.9500</td>\n",
       "      <td>0.492093</td>\n",
       "      <td>1.032140</td>\n",
       "    </tr>\n",
       "    <tr>\n",
       "      <th>2</th>\n",
       "      <td>200082</td>\n",
       "      <td>1</td>\n",
       "      <td>1</td>\n",
       "      <td>40</td>\n",
       "      <td>NaN</td>\n",
       "      <td>NaN</td>\n",
       "      <td>NaN</td>\n",
       "      <td>NaN</td>\n",
       "      <td>NaN</td>\n",
       "      <td>NaN</td>\n",
       "      <td>...</td>\n",
       "      <td>59.355400</td>\n",
       "      <td>0.996610</td>\n",
       "      <td>1010.860</td>\n",
       "      <td>39.4332</td>\n",
       "      <td>739.2121</td>\n",
       "      <td>531.024</td>\n",
       "      <td>0.686206</td>\n",
       "      <td>242.8310</td>\n",
       "      <td>0.313794</td>\n",
       "      <td>2.186800</td>\n",
       "    </tr>\n",
       "    <tr>\n",
       "      <th>3</th>\n",
       "      <td>200082</td>\n",
       "      <td>1</td>\n",
       "      <td>1</td>\n",
       "      <td>40</td>\n",
       "      <td>NaN</td>\n",
       "      <td>NaN</td>\n",
       "      <td>NaN</td>\n",
       "      <td>NaN</td>\n",
       "      <td>NaN</td>\n",
       "      <td>NaN</td>\n",
       "      <td>...</td>\n",
       "      <td>56.666320</td>\n",
       "      <td>0.996466</td>\n",
       "      <td>1058.830</td>\n",
       "      <td>146.8230</td>\n",
       "      <td>13231.3000</td>\n",
       "      <td>3964.450</td>\n",
       "      <td>0.378345</td>\n",
       "      <td>6513.9400</td>\n",
       "      <td>0.621655</td>\n",
       "      <td>0.608610</td>\n",
       "    </tr>\n",
       "    <tr>\n",
       "      <th>4</th>\n",
       "      <td>200108</td>\n",
       "      <td>2</td>\n",
       "      <td>1</td>\n",
       "      <td>60</td>\n",
       "      <td>NaN</td>\n",
       "      <td>NaN</td>\n",
       "      <td>NaN</td>\n",
       "      <td>NaN</td>\n",
       "      <td>NaN</td>\n",
       "      <td>NaN</td>\n",
       "      <td>...</td>\n",
       "      <td>64.954397</td>\n",
       "      <td>0.990741</td>\n",
       "      <td>923.725</td>\n",
       "      <td>27.7213</td>\n",
       "      <td>532.0790</td>\n",
       "      <td>168.406</td>\n",
       "      <td>0.672796</td>\n",
       "      <td>81.9015</td>\n",
       "      <td>0.327204</td>\n",
       "      <td>2.056200</td>\n",
       "    </tr>\n",
       "  </tbody>\n",
       "</table>\n",
       "<p>5 rows × 45 columns</p>\n",
       "</div>"
      ],
      "text/plain": [
       "   nsrrid  gender_x  race_x  age_s1_x  ang_date  chd_dthdt  chf_date  \\\n",
       "0  200079         2       3        56       NaN        NaN       NaN   \n",
       "1  200079         2       3        56       NaN        NaN       NaN   \n",
       "2  200082         1       1        40       NaN        NaN       NaN   \n",
       "3  200082         1       1        40       NaN        NaN       NaN   \n",
       "4  200108         2       1        60       NaN        NaN       NaN   \n",
       "\n",
       "   cvd_dthdt  mi_date  stk_date  ...        ihr     NN_RR      AVNN      SDNN  \\\n",
       "0        NaN      NaN       NaN  ...  75.112951  0.992000   798.797   46.2118   \n",
       "1        NaN      NaN       NaN  ...  70.633025  0.968839   849.461   72.6343   \n",
       "2        NaN      NaN       NaN  ...  59.355400  0.996610  1010.860   39.4332   \n",
       "3        NaN      NaN       NaN  ...  56.666320  0.996466  1058.830  146.8230   \n",
       "4        NaN      NaN       NaN  ...  64.954397  0.990741   923.725   27.7213   \n",
       "\n",
       "          VLF        LF      LF_n         HF      HF_n     LF_HF  \n",
       "0    695.6390   285.530  0.256639   827.0460  0.743361  0.345241  \n",
       "1   1234.8283  1666.850  0.507907  1614.9500  0.492093  1.032140  \n",
       "2    739.2121   531.024  0.686206   242.8310  0.313794  2.186800  \n",
       "3  13231.3000  3964.450  0.378345  6513.9400  0.621655  0.608610  \n",
       "4    532.0790   168.406  0.672796    81.9015  0.327204  2.056200  \n",
       "\n",
       "[5 rows x 45 columns]"
      ]
     },
     "execution_count": 4,
     "metadata": {},
     "output_type": "execute_result"
    }
   ],
   "source": [
    "# Readig Data from .csv file\n",
    "data = pd.read_csv(\"Qmerge1-FirstLastHRV.csv\") \n",
    "data.head()"
   ]
  },
  {
   "cell_type": "markdown",
   "metadata": {},
   "source": [
    "## Column Names description\n",
    "1. nsrrid = This subject identifier was created by the National Sleep Research Resource (NSRR) team to more easily match with file downloads. Use 'pptid' to link with Biologic Specimen and Data Repository Information Coordinating Center (BioLINCC) and cohort-specific data.\n",
    "\n",
    "2. BLUE25 = Quality of Life (QOL) (Sleep Heart Health Study Visit One (SHHS1)): Felt downhearted and blue. \n",
    "        1: All of the time\n",
    "        2: Most of the time\n",
    "        3: A good bit of the time\n",
    "        4: Some of the time\n",
    "        5: A little of time\n",
    "        6: None of the time\n",
    "\n",
    "3. ihr = Instantaneous heart rate\n",
    "\n",
    "4. NN_RR = Ratio of consecutive normal sinus beats (NN) over all cardiac inter-beat (RR) intervals\n",
    "\n",
    "5. AVNN = Mean of all normal sinus to normal sinus interbeat intervals (NN) \n",
    "\n",
    "6. SDNN = Standard deviation of all normal sinus to normal sinus interbeat (NN) intervals\n",
    "\n",
    "7. VLF = Very low frequency power: the normal sinus to normal sinus interbeat (NN) interval spectral power between 0.003 and 0.04 Hz\n",
    "\n",
    "8. LF = Low frequency power: the normal sinus to normal sinus interbeat (NN) interval spectral power between 0.04 and 0.15 Hz\n",
    "\n",
    "9. HF = High frequency power: the normal sinus to normal sinus interbeat (NN) interval spectral power between 0.15 and 0.4 Hz\n",
    "\n",
    "10. HF_n = High frequency power (normalized)\n",
    "\n",
    "11. LF_HF = The ratio of low to high frequency power"
   ]
  },
  {
   "cell_type": "code",
   "execution_count": 5,
   "metadata": {},
   "outputs": [],
   "source": [
    "# Copying dataframe\n",
    "heart_rate_data = data.copy()"
   ]
  },
  {
   "cell_type": "markdown",
   "metadata": {},
   "source": [
    "### Data cleaning"
   ]
  },
  {
   "cell_type": "code",
   "execution_count": 6,
   "metadata": {
    "scrolled": true
   },
   "outputs": [
    {
     "data": {
      "text/html": [
       "<div>\n",
       "<style scoped>\n",
       "    .dataframe tbody tr th:only-of-type {\n",
       "        vertical-align: middle;\n",
       "    }\n",
       "\n",
       "    .dataframe tbody tr th {\n",
       "        vertical-align: top;\n",
       "    }\n",
       "\n",
       "    .dataframe thead th {\n",
       "        text-align: right;\n",
       "    }\n",
       "</style>\n",
       "<table border=\"1\" class=\"dataframe\">\n",
       "  <thead>\n",
       "    <tr style=\"text-align: right;\">\n",
       "      <th></th>\n",
       "      <th>nsrrid</th>\n",
       "      <th>gender_x</th>\n",
       "      <th>race_x</th>\n",
       "      <th>age_s1_x</th>\n",
       "      <th>BLUE25</th>\n",
       "      <th>ihr</th>\n",
       "      <th>NN_RR</th>\n",
       "      <th>AVNN</th>\n",
       "      <th>SDNN</th>\n",
       "      <th>VLF</th>\n",
       "      <th>LF</th>\n",
       "      <th>HF</th>\n",
       "      <th>HF_n</th>\n",
       "      <th>LF_HF</th>\n",
       "    </tr>\n",
       "  </thead>\n",
       "  <tbody>\n",
       "    <tr>\n",
       "      <th>0</th>\n",
       "      <td>200079</td>\n",
       "      <td>2</td>\n",
       "      <td>3</td>\n",
       "      <td>56</td>\n",
       "      <td>5.0</td>\n",
       "      <td>75.112951</td>\n",
       "      <td>0.992000</td>\n",
       "      <td>798.797</td>\n",
       "      <td>46.2118</td>\n",
       "      <td>695.6390</td>\n",
       "      <td>285.530</td>\n",
       "      <td>827.0460</td>\n",
       "      <td>0.743361</td>\n",
       "      <td>0.345241</td>\n",
       "    </tr>\n",
       "    <tr>\n",
       "      <th>1</th>\n",
       "      <td>200079</td>\n",
       "      <td>2</td>\n",
       "      <td>3</td>\n",
       "      <td>56</td>\n",
       "      <td>5.0</td>\n",
       "      <td>70.633025</td>\n",
       "      <td>0.968839</td>\n",
       "      <td>849.461</td>\n",
       "      <td>72.6343</td>\n",
       "      <td>1234.8283</td>\n",
       "      <td>1666.850</td>\n",
       "      <td>1614.9500</td>\n",
       "      <td>0.492093</td>\n",
       "      <td>1.032140</td>\n",
       "    </tr>\n",
       "    <tr>\n",
       "      <th>2</th>\n",
       "      <td>200082</td>\n",
       "      <td>1</td>\n",
       "      <td>1</td>\n",
       "      <td>40</td>\n",
       "      <td>6.0</td>\n",
       "      <td>59.355400</td>\n",
       "      <td>0.996610</td>\n",
       "      <td>1010.860</td>\n",
       "      <td>39.4332</td>\n",
       "      <td>739.2121</td>\n",
       "      <td>531.024</td>\n",
       "      <td>242.8310</td>\n",
       "      <td>0.313794</td>\n",
       "      <td>2.186800</td>\n",
       "    </tr>\n",
       "    <tr>\n",
       "      <th>3</th>\n",
       "      <td>200082</td>\n",
       "      <td>1</td>\n",
       "      <td>1</td>\n",
       "      <td>40</td>\n",
       "      <td>6.0</td>\n",
       "      <td>56.666320</td>\n",
       "      <td>0.996466</td>\n",
       "      <td>1058.830</td>\n",
       "      <td>146.8230</td>\n",
       "      <td>13231.3000</td>\n",
       "      <td>3964.450</td>\n",
       "      <td>6513.9400</td>\n",
       "      <td>0.621655</td>\n",
       "      <td>0.608610</td>\n",
       "    </tr>\n",
       "    <tr>\n",
       "      <th>4</th>\n",
       "      <td>200108</td>\n",
       "      <td>2</td>\n",
       "      <td>1</td>\n",
       "      <td>60</td>\n",
       "      <td>5.0</td>\n",
       "      <td>64.954397</td>\n",
       "      <td>0.990741</td>\n",
       "      <td>923.725</td>\n",
       "      <td>27.7213</td>\n",
       "      <td>532.0790</td>\n",
       "      <td>168.406</td>\n",
       "      <td>81.9015</td>\n",
       "      <td>0.327204</td>\n",
       "      <td>2.056200</td>\n",
       "    </tr>\n",
       "  </tbody>\n",
       "</table>\n",
       "</div>"
      ],
      "text/plain": [
       "   nsrrid  gender_x  race_x  age_s1_x  BLUE25        ihr     NN_RR      AVNN  \\\n",
       "0  200079         2       3        56     5.0  75.112951  0.992000   798.797   \n",
       "1  200079         2       3        56     5.0  70.633025  0.968839   849.461   \n",
       "2  200082         1       1        40     6.0  59.355400  0.996610  1010.860   \n",
       "3  200082         1       1        40     6.0  56.666320  0.996466  1058.830   \n",
       "4  200108         2       1        60     5.0  64.954397  0.990741   923.725   \n",
       "\n",
       "       SDNN         VLF        LF         HF      HF_n     LF_HF  \n",
       "0   46.2118    695.6390   285.530   827.0460  0.743361  0.345241  \n",
       "1   72.6343   1234.8283  1666.850  1614.9500  0.492093  1.032140  \n",
       "2   39.4332    739.2121   531.024   242.8310  0.313794  2.186800  \n",
       "3  146.8230  13231.3000  3964.450  6513.9400  0.621655  0.608610  \n",
       "4   27.7213    532.0790   168.406    81.9015  0.327204  2.056200  "
      ]
     },
     "execution_count": 6,
     "metadata": {},
     "output_type": "execute_result"
    }
   ],
   "source": [
    "# Select useful columns from dataframe\n",
    "heart_rate_data = heart_rate_data[['nsrrid', 'gender_x', 'race_x', 'age_s1_x', 'BLUE25', 'ihr', 'NN_RR', 'AVNN', 'SDNN', 'VLF', 'LF', 'HF', 'HF_n', 'LF_HF']]\n",
    "heart_rate_data.head()"
   ]
  },
  {
   "cell_type": "code",
   "execution_count": 7,
   "metadata": {},
   "outputs": [
    {
     "data": {
      "text/plain": [
       "972"
      ]
     },
     "execution_count": 7,
     "metadata": {},
     "output_type": "execute_result"
    }
   ],
   "source": [
    "# Number of rows in Dataframe\n",
    "heart_rate_data.shape[0]"
   ]
  },
  {
   "cell_type": "code",
   "execution_count": 8,
   "metadata": {},
   "outputs": [
    {
     "data": {
      "text/plain": [
       "486"
      ]
     },
     "execution_count": 8,
     "metadata": {},
     "output_type": "execute_result"
    }
   ],
   "source": [
    "# Skipping every other row, to reemove duplicate rows\n",
    "heart_rate_data = heart_rate_data[::2]\n",
    "\n",
    "# Number of rows in Dataframe\n",
    "heart_rate_data.shape[0]"
   ]
  },
  {
   "cell_type": "code",
   "execution_count": 9,
   "metadata": {},
   "outputs": [
    {
     "name": "stderr",
     "output_type": "stream",
     "text": [
      "/anaconda3/lib/python3.6/site-packages/pandas/core/ops.py:1649: FutureWarning: elementwise comparison failed; returning scalar instead, but in the future will perform elementwise comparison\n",
      "  result = method(y)\n"
     ]
    },
    {
     "data": {
      "text/html": [
       "<div>\n",
       "<style scoped>\n",
       "    .dataframe tbody tr th:only-of-type {\n",
       "        vertical-align: middle;\n",
       "    }\n",
       "\n",
       "    .dataframe tbody tr th {\n",
       "        vertical-align: top;\n",
       "    }\n",
       "\n",
       "    .dataframe thead th {\n",
       "        text-align: right;\n",
       "    }\n",
       "</style>\n",
       "<table border=\"1\" class=\"dataframe\">\n",
       "  <thead>\n",
       "    <tr style=\"text-align: right;\">\n",
       "      <th></th>\n",
       "      <th>nsrrid</th>\n",
       "      <th>Gender</th>\n",
       "      <th>Race</th>\n",
       "      <th>Age</th>\n",
       "      <th>BLUE25</th>\n",
       "      <th>ihr</th>\n",
       "      <th>NN_RR</th>\n",
       "      <th>AVNN</th>\n",
       "      <th>SDNN</th>\n",
       "      <th>VLF</th>\n",
       "      <th>LF</th>\n",
       "      <th>HF</th>\n",
       "      <th>HF_n</th>\n",
       "      <th>LF_HF</th>\n",
       "    </tr>\n",
       "  </thead>\n",
       "  <tbody>\n",
       "    <tr>\n",
       "      <th>0</th>\n",
       "      <td>200079</td>\n",
       "      <td>2</td>\n",
       "      <td>3</td>\n",
       "      <td>56</td>\n",
       "      <td>5.0</td>\n",
       "      <td>75.112951</td>\n",
       "      <td>0.992000</td>\n",
       "      <td>798.797</td>\n",
       "      <td>46.21180</td>\n",
       "      <td>695.6390</td>\n",
       "      <td>285.53000</td>\n",
       "      <td>827.04600</td>\n",
       "      <td>0.743361</td>\n",
       "      <td>0.345241</td>\n",
       "    </tr>\n",
       "    <tr>\n",
       "      <th>2</th>\n",
       "      <td>200082</td>\n",
       "      <td>1</td>\n",
       "      <td>1</td>\n",
       "      <td>40</td>\n",
       "      <td>6.0</td>\n",
       "      <td>59.355400</td>\n",
       "      <td>0.996610</td>\n",
       "      <td>1010.860</td>\n",
       "      <td>39.43320</td>\n",
       "      <td>739.2121</td>\n",
       "      <td>531.02400</td>\n",
       "      <td>242.83100</td>\n",
       "      <td>0.313794</td>\n",
       "      <td>2.186800</td>\n",
       "    </tr>\n",
       "    <tr>\n",
       "      <th>4</th>\n",
       "      <td>200108</td>\n",
       "      <td>2</td>\n",
       "      <td>1</td>\n",
       "      <td>60</td>\n",
       "      <td>5.0</td>\n",
       "      <td>64.954397</td>\n",
       "      <td>0.990741</td>\n",
       "      <td>923.725</td>\n",
       "      <td>27.72130</td>\n",
       "      <td>532.0790</td>\n",
       "      <td>168.40600</td>\n",
       "      <td>81.90150</td>\n",
       "      <td>0.327204</td>\n",
       "      <td>2.056200</td>\n",
       "    </tr>\n",
       "    <tr>\n",
       "      <th>6</th>\n",
       "      <td>200109</td>\n",
       "      <td>2</td>\n",
       "      <td>1</td>\n",
       "      <td>71</td>\n",
       "      <td>6.0</td>\n",
       "      <td>76.865428</td>\n",
       "      <td>0.997389</td>\n",
       "      <td>780.585</td>\n",
       "      <td>8.41453</td>\n",
       "      <td>55.3561</td>\n",
       "      <td>8.87934</td>\n",
       "      <td>4.38036</td>\n",
       "      <td>0.330351</td>\n",
       "      <td>2.027080</td>\n",
       "    </tr>\n",
       "    <tr>\n",
       "      <th>8</th>\n",
       "      <td>200112</td>\n",
       "      <td>1</td>\n",
       "      <td>1</td>\n",
       "      <td>48</td>\n",
       "      <td>5.0</td>\n",
       "      <td>62.348286</td>\n",
       "      <td>0.996785</td>\n",
       "      <td>962.336</td>\n",
       "      <td>88.53440</td>\n",
       "      <td>3987.3524</td>\n",
       "      <td>3269.69000</td>\n",
       "      <td>292.34900</td>\n",
       "      <td>0.082073</td>\n",
       "      <td>11.184200</td>\n",
       "    </tr>\n",
       "  </tbody>\n",
       "</table>\n",
       "</div>"
      ],
      "text/plain": [
       "   nsrrid  Gender  Race  Age  BLUE25        ihr     NN_RR      AVNN      SDNN  \\\n",
       "0  200079       2     3   56     5.0  75.112951  0.992000   798.797  46.21180   \n",
       "2  200082       1     1   40     6.0  59.355400  0.996610  1010.860  39.43320   \n",
       "4  200108       2     1   60     5.0  64.954397  0.990741   923.725  27.72130   \n",
       "6  200109       2     1   71     6.0  76.865428  0.997389   780.585   8.41453   \n",
       "8  200112       1     1   48     5.0  62.348286  0.996785   962.336  88.53440   \n",
       "\n",
       "         VLF          LF         HF      HF_n      LF_HF  \n",
       "0   695.6390   285.53000  827.04600  0.743361   0.345241  \n",
       "2   739.2121   531.02400  242.83100  0.313794   2.186800  \n",
       "4   532.0790   168.40600   81.90150  0.327204   2.056200  \n",
       "6    55.3561     8.87934    4.38036  0.330351   2.027080  \n",
       "8  3987.3524  3269.69000  292.34900  0.082073  11.184200  "
      ]
     },
     "execution_count": 9,
     "metadata": {},
     "output_type": "execute_result"
    }
   ],
   "source": [
    "# Renaming columns \n",
    "heart_rate_data = heart_rate_data.rename(index=str, columns={'gender_x': 'Gender', 'race_x': 'Race', 'age_s1_x': 'Age'})\n",
    "heart_rate_data = heart_rate_data[heart_rate_data['BLUE25'] != 'NAN']\n",
    "heart_rate_data.head()"
   ]
  },
  {
   "cell_type": "code",
   "execution_count": 10,
   "metadata": {},
   "outputs": [
    {
     "data": {
      "text/plain": [
       "449"
      ]
     },
     "execution_count": 10,
     "metadata": {},
     "output_type": "execute_result"
    }
   ],
   "source": [
    "# Dropping row that has any empty field\n",
    "dep_data = heart_rate_data.dropna(axis=0, how='any')\n",
    "dep_data.shape[0]\n"
   ]
  },
  {
   "cell_type": "markdown",
   "metadata": {},
   "source": [
    "### Creating dummy variables for Depression score"
   ]
  },
  {
   "cell_type": "code",
   "execution_count": 11,
   "metadata": {},
   "outputs": [
    {
     "name": "stderr",
     "output_type": "stream",
     "text": [
      "/anaconda3/lib/python3.6/site-packages/pandas/core/indexing.py:543: SettingWithCopyWarning: \n",
      "A value is trying to be set on a copy of a slice from a DataFrame.\n",
      "Try using .loc[row_indexer,col_indexer] = value instead\n",
      "\n",
      "See the caveats in the documentation: http://pandas.pydata.org/pandas-docs/stable/indexing.html#indexing-view-versus-copy\n",
      "  self.obj[item] = s\n"
     ]
    },
    {
     "data": {
      "text/html": [
       "<div>\n",
       "<style scoped>\n",
       "    .dataframe tbody tr th:only-of-type {\n",
       "        vertical-align: middle;\n",
       "    }\n",
       "\n",
       "    .dataframe tbody tr th {\n",
       "        vertical-align: top;\n",
       "    }\n",
       "\n",
       "    .dataframe thead th {\n",
       "        text-align: right;\n",
       "    }\n",
       "</style>\n",
       "<table border=\"1\" class=\"dataframe\">\n",
       "  <thead>\n",
       "    <tr style=\"text-align: right;\">\n",
       "      <th></th>\n",
       "      <th>nsrrid</th>\n",
       "      <th>Gender</th>\n",
       "      <th>Race</th>\n",
       "      <th>Age</th>\n",
       "      <th>BLUE25</th>\n",
       "      <th>ihr</th>\n",
       "      <th>NN_RR</th>\n",
       "      <th>AVNN</th>\n",
       "      <th>SDNN</th>\n",
       "      <th>VLF</th>\n",
       "      <th>LF</th>\n",
       "      <th>HF</th>\n",
       "      <th>HF_n</th>\n",
       "      <th>LF_HF</th>\n",
       "    </tr>\n",
       "  </thead>\n",
       "  <tbody>\n",
       "    <tr>\n",
       "      <th>0</th>\n",
       "      <td>200079</td>\n",
       "      <td>2</td>\n",
       "      <td>3</td>\n",
       "      <td>56</td>\n",
       "      <td>1.0</td>\n",
       "      <td>75.112951</td>\n",
       "      <td>0.992000</td>\n",
       "      <td>798.797</td>\n",
       "      <td>46.21180</td>\n",
       "      <td>695.6390</td>\n",
       "      <td>285.53000</td>\n",
       "      <td>827.04600</td>\n",
       "      <td>0.743361</td>\n",
       "      <td>0.345241</td>\n",
       "    </tr>\n",
       "    <tr>\n",
       "      <th>2</th>\n",
       "      <td>200082</td>\n",
       "      <td>1</td>\n",
       "      <td>1</td>\n",
       "      <td>40</td>\n",
       "      <td>1.0</td>\n",
       "      <td>59.355400</td>\n",
       "      <td>0.996610</td>\n",
       "      <td>1010.860</td>\n",
       "      <td>39.43320</td>\n",
       "      <td>739.2121</td>\n",
       "      <td>531.02400</td>\n",
       "      <td>242.83100</td>\n",
       "      <td>0.313794</td>\n",
       "      <td>2.186800</td>\n",
       "    </tr>\n",
       "    <tr>\n",
       "      <th>4</th>\n",
       "      <td>200108</td>\n",
       "      <td>2</td>\n",
       "      <td>1</td>\n",
       "      <td>60</td>\n",
       "      <td>1.0</td>\n",
       "      <td>64.954397</td>\n",
       "      <td>0.990741</td>\n",
       "      <td>923.725</td>\n",
       "      <td>27.72130</td>\n",
       "      <td>532.0790</td>\n",
       "      <td>168.40600</td>\n",
       "      <td>81.90150</td>\n",
       "      <td>0.327204</td>\n",
       "      <td>2.056200</td>\n",
       "    </tr>\n",
       "    <tr>\n",
       "      <th>6</th>\n",
       "      <td>200109</td>\n",
       "      <td>2</td>\n",
       "      <td>1</td>\n",
       "      <td>71</td>\n",
       "      <td>1.0</td>\n",
       "      <td>76.865428</td>\n",
       "      <td>0.997389</td>\n",
       "      <td>780.585</td>\n",
       "      <td>8.41453</td>\n",
       "      <td>55.3561</td>\n",
       "      <td>8.87934</td>\n",
       "      <td>4.38036</td>\n",
       "      <td>0.330351</td>\n",
       "      <td>2.027080</td>\n",
       "    </tr>\n",
       "    <tr>\n",
       "      <th>8</th>\n",
       "      <td>200112</td>\n",
       "      <td>1</td>\n",
       "      <td>1</td>\n",
       "      <td>48</td>\n",
       "      <td>1.0</td>\n",
       "      <td>62.348286</td>\n",
       "      <td>0.996785</td>\n",
       "      <td>962.336</td>\n",
       "      <td>88.53440</td>\n",
       "      <td>3987.3524</td>\n",
       "      <td>3269.69000</td>\n",
       "      <td>292.34900</td>\n",
       "      <td>0.082073</td>\n",
       "      <td>11.184200</td>\n",
       "    </tr>\n",
       "  </tbody>\n",
       "</table>\n",
       "</div>"
      ],
      "text/plain": [
       "   nsrrid  Gender  Race  Age  BLUE25        ihr     NN_RR      AVNN      SDNN  \\\n",
       "0  200079       2     3   56     1.0  75.112951  0.992000   798.797  46.21180   \n",
       "2  200082       1     1   40     1.0  59.355400  0.996610  1010.860  39.43320   \n",
       "4  200108       2     1   60     1.0  64.954397  0.990741   923.725  27.72130   \n",
       "6  200109       2     1   71     1.0  76.865428  0.997389   780.585   8.41453   \n",
       "8  200112       1     1   48     1.0  62.348286  0.996785   962.336  88.53440   \n",
       "\n",
       "         VLF          LF         HF      HF_n      LF_HF  \n",
       "0   695.6390   285.53000  827.04600  0.743361   0.345241  \n",
       "2   739.2121   531.02400  242.83100  0.313794   2.186800  \n",
       "4   532.0790   168.40600   81.90150  0.327204   2.056200  \n",
       "6    55.3561     8.87934    4.38036  0.330351   2.027080  \n",
       "8  3987.3524  3269.69000  292.34900  0.082073  11.184200  "
      ]
     },
     "execution_count": 11,
     "metadata": {},
     "output_type": "execute_result"
    }
   ],
   "source": [
    "# Creating dummy variables for Depression score, Score 1 to 3 replace with 0\n",
    "# Depression score 4 to 6 replace with 1\n",
    "dep_data.loc[dep_data['BLUE25'] < 4, 'BLUE25'] = 0\n",
    "dep_data.loc[dep_data['BLUE25'] >= 4, 'BLUE25'] = 1\n",
    "dep_data.head()"
   ]
  },
  {
   "cell_type": "code",
   "execution_count": 12,
   "metadata": {},
   "outputs": [],
   "source": [
    "# Coonverting columns to 2 dimensional array\n",
    "heart_data = dep_data[['BLUE25', 'ihr', 'NN_RR', 'AVNN', 'SDNN', 'VLF', 'LF', 'HF', 'HF_n', 'LF_HF']]"
   ]
  },
  {
   "cell_type": "markdown",
   "metadata": {},
   "source": [
    "### Selecting dataset for machine learing"
   ]
  },
  {
   "cell_type": "code",
   "execution_count": 13,
   "metadata": {},
   "outputs": [],
   "source": [
    "# Data for machine learning algorithm, X = all the columns in heart_data\n",
    "# dataframe except BLUE25, and y = BLUE25\n",
    "X = heart_data.drop('BLUE25', axis = 1)\n",
    "y = heart_data['BLUE25']"
   ]
  },
  {
   "cell_type": "code",
   "execution_count": 12,
   "metadata": {},
   "outputs": [],
   "source": [
    "### Choosing model"
   ]
  },
  {
   "cell_type": "code",
   "execution_count": 14,
   "metadata": {},
   "outputs": [
    {
     "data": {
      "text/plain": [
       "LogisticRegression(C=1.0, class_weight=None, dual=False, fit_intercept=True,\n",
       "          intercept_scaling=1, max_iter=100, multi_class='warn',\n",
       "          n_jobs=None, penalty='l2', random_state=None, solver='warn',\n",
       "          tol=0.0001, verbose=0, warm_start=False)"
      ]
     },
     "execution_count": 14,
     "metadata": {},
     "output_type": "execute_result"
    }
   ],
   "source": [
    "# Choosing logistic regression as we have only 2 output values, \n",
    "# 0 = Depressed, 1 = Not Depressed, or possibility of less depression\n",
    "from sklearn.linear_model import LogisticRegression\n",
    "classifier = LogisticRegression()\n",
    "classifier"
   ]
  },
  {
   "cell_type": "markdown",
   "metadata": {},
   "source": [
    "### Splitting data for train, test"
   ]
  },
  {
   "cell_type": "code",
   "execution_count": 15,
   "metadata": {},
   "outputs": [],
   "source": [
    "# Splitting data traing and testing model, by default 75% data for training, and 25% for testing\n",
    "from sklearn.model_selection import train_test_split\n",
    "\n",
    "X_train, X_test, y_train, y_test = train_test_split(X, y, random_state=1)"
   ]
  },
  {
   "cell_type": "markdown",
   "metadata": {},
   "source": [
    "### Fitting data to model"
   ]
  },
  {
   "cell_type": "code",
   "execution_count": 16,
   "metadata": {},
   "outputs": [
    {
     "name": "stderr",
     "output_type": "stream",
     "text": [
      "/anaconda3/lib/python3.6/site-packages/sklearn/linear_model/logistic.py:433: FutureWarning: Default solver will be changed to 'lbfgs' in 0.22. Specify a solver to silence this warning.\n",
      "  FutureWarning)\n"
     ]
    },
    {
     "data": {
      "text/plain": [
       "LogisticRegression(C=1.0, class_weight=None, dual=False, fit_intercept=True,\n",
       "          intercept_scaling=1, max_iter=100, multi_class='warn',\n",
       "          n_jobs=None, penalty='l2', random_state=None, solver='warn',\n",
       "          tol=0.0001, verbose=0, warm_start=False)"
      ]
     },
     "execution_count": 16,
     "metadata": {},
     "output_type": "execute_result"
    }
   ],
   "source": [
    "# Fitting training data to model\n",
    "classifier.fit(X_train, y_train)"
   ]
  },
  {
   "cell_type": "code",
   "execution_count": 17,
   "metadata": {},
   "outputs": [
    {
     "name": "stdout",
     "output_type": "stream",
     "text": [
      "Training Data Score: 0.9821428571428571\n",
      "Testing Data Score: 0.9557522123893806\n"
     ]
    },
    {
     "data": {
      "text/html": [
       "<div>\n",
       "<style scoped>\n",
       "    .dataframe tbody tr th:only-of-type {\n",
       "        vertical-align: middle;\n",
       "    }\n",
       "\n",
       "    .dataframe tbody tr th {\n",
       "        vertical-align: top;\n",
       "    }\n",
       "\n",
       "    .dataframe thead th {\n",
       "        text-align: right;\n",
       "    }\n",
       "</style>\n",
       "<table border=\"1\" class=\"dataframe\">\n",
       "  <thead>\n",
       "    <tr style=\"text-align: right;\">\n",
       "      <th></th>\n",
       "      <th>ihr</th>\n",
       "      <th>NN_RR</th>\n",
       "      <th>AVNN</th>\n",
       "      <th>SDNN</th>\n",
       "      <th>VLF</th>\n",
       "      <th>LF</th>\n",
       "      <th>HF</th>\n",
       "      <th>HF_n</th>\n",
       "      <th>LF_HF</th>\n",
       "    </tr>\n",
       "  </thead>\n",
       "  <tbody>\n",
       "    <tr>\n",
       "      <th>652</th>\n",
       "      <td>64.508291</td>\n",
       "      <td>0.996894</td>\n",
       "      <td>930.113</td>\n",
       "      <td>49.6384</td>\n",
       "      <td>1092.66050</td>\n",
       "      <td>692.828</td>\n",
       "      <td>780.8260</td>\n",
       "      <td>0.529857</td>\n",
       "      <td>0.887301</td>\n",
       "    </tr>\n",
       "    <tr>\n",
       "      <th>624</th>\n",
       "      <td>69.625196</td>\n",
       "      <td>0.997118</td>\n",
       "      <td>861.757</td>\n",
       "      <td>30.3586</td>\n",
       "      <td>341.33360</td>\n",
       "      <td>409.583</td>\n",
       "      <td>165.0230</td>\n",
       "      <td>0.287193</td>\n",
       "      <td>2.481980</td>\n",
       "    </tr>\n",
       "    <tr>\n",
       "      <th>378</th>\n",
       "      <td>66.864660</td>\n",
       "      <td>0.997006</td>\n",
       "      <td>897.335</td>\n",
       "      <td>31.9392</td>\n",
       "      <td>577.38100</td>\n",
       "      <td>330.938</td>\n",
       "      <td>118.2970</td>\n",
       "      <td>0.263330</td>\n",
       "      <td>2.797520</td>\n",
       "    </tr>\n",
       "    <tr>\n",
       "      <th>62</th>\n",
       "      <td>73.294886</td>\n",
       "      <td>0.997268</td>\n",
       "      <td>818.611</td>\n",
       "      <td>30.2603</td>\n",
       "      <td>448.75243</td>\n",
       "      <td>292.491</td>\n",
       "      <td>172.6830</td>\n",
       "      <td>0.371222</td>\n",
       "      <td>1.693800</td>\n",
       "    </tr>\n",
       "    <tr>\n",
       "      <th>466</th>\n",
       "      <td>70.593384</td>\n",
       "      <td>0.997159</td>\n",
       "      <td>849.938</td>\n",
       "      <td>20.2343</td>\n",
       "      <td>185.56210</td>\n",
       "      <td>118.909</td>\n",
       "      <td>88.7831</td>\n",
       "      <td>0.427475</td>\n",
       "      <td>1.339320</td>\n",
       "    </tr>\n",
       "  </tbody>\n",
       "</table>\n",
       "</div>"
      ],
      "text/plain": [
       "           ihr     NN_RR     AVNN     SDNN         VLF       LF        HF  \\\n",
       "652  64.508291  0.996894  930.113  49.6384  1092.66050  692.828  780.8260   \n",
       "624  69.625196  0.997118  861.757  30.3586   341.33360  409.583  165.0230   \n",
       "378  66.864660  0.997006  897.335  31.9392   577.38100  330.938  118.2970   \n",
       "62   73.294886  0.997268  818.611  30.2603   448.75243  292.491  172.6830   \n",
       "466  70.593384  0.997159  849.938  20.2343   185.56210  118.909   88.7831   \n",
       "\n",
       "         HF_n     LF_HF  \n",
       "652  0.529857  0.887301  \n",
       "624  0.287193  2.481980  \n",
       "378  0.263330  2.797520  \n",
       "62   0.371222  1.693800  \n",
       "466  0.427475  1.339320  "
      ]
     },
     "execution_count": 17,
     "metadata": {},
     "output_type": "execute_result"
    }
   ],
   "source": [
    "# Printing accuracy of model for training and testing data\n",
    "print(f\"Training Data Score: {classifier.score(X_train, y_train)}\")\n",
    "print(f\"Testing Data Score: {classifier.score(X_test, y_test)}\")\n",
    "X_test.head()"
   ]
  },
  {
   "cell_type": "markdown",
   "metadata": {},
   "source": [
    "### Model predictions"
   ]
  },
  {
   "cell_type": "code",
   "execution_count": 18,
   "metadata": {},
   "outputs": [],
   "source": [
    "# Model Predictions for testing dataset\n",
    "predictions = classifier.predict(X_test)"
   ]
  },
  {
   "cell_type": "code",
   "execution_count": 19,
   "metadata": {},
   "outputs": [
    {
     "data": {
      "text/plain": [
       "array([1.])"
      ]
     },
     "execution_count": 19,
     "metadata": {},
     "output_type": "execute_result"
    }
   ],
   "source": [
    "# Using new data to predict\n",
    "new_data = [00.508291, 0.996894, 930.113, 49.6384, 1092.66050, 692.828, 780.8260, 0.529857, 0.887301]\n",
    "predictions = classifier.predict([new_data])\n",
    "predictions"
   ]
  },
  {
   "cell_type": "markdown",
   "metadata": {},
   "source": [
    "# Logistic Regression continued"
   ]
  },
  {
   "cell_type": "code",
   "execution_count": 51,
   "metadata": {},
   "outputs": [],
   "source": [
    "# Data for machine learning algorithm, X = all the columns in heart_data\n",
    "# dataframe except BLUE25, and y = BLUE25\n",
    "X = dep_data.drop('BLUE25', axis = 1)\n",
    "y = dep_data['BLUE25']"
   ]
  },
  {
   "cell_type": "code",
   "execution_count": 52,
   "metadata": {},
   "outputs": [
    {
     "name": "stdout",
     "output_type": "stream",
     "text": [
      "Warning: Maximum number of iterations has been exceeded.\n",
      "         Current function value: 0.101501\n",
      "         Iterations: 35\n",
      "                             Results: Logit\n",
      "=========================================================================\n",
      "Model:                  Logit               Pseudo R-squared:    0.118   \n",
      "Dependent Variable:     BLUE25              AIC:                 119.1483\n",
      "Date:                   2019-05-11 12:41    BIC:                 176.6466\n",
      "No. Observations:       449                 Log-Likelihood:      -45.574 \n",
      "Df Model:               13                  LL-Null:             -51.665 \n",
      "Df Residuals:           435                 LLR p-value:         0.51288 \n",
      "Converged:              0.0000              Scale:               1.0000  \n",
      "No. Iterations:         35.0000                                          \n",
      "-------------------------------------------------------------------------\n",
      "              Coef.     Std.Err.     z    P>|z|     [0.025       0.975]  \n",
      "-------------------------------------------------------------------------\n",
      "nsrrid          0.0002     0.0002  1.2583 0.2083      -0.0001      0.0005\n",
      "Gender          0.2265     0.6796  0.3333 0.7389      -1.1054      1.5584\n",
      "Race           -0.9529     0.3725 -2.5582 0.0105      -1.6829     -0.2228\n",
      "Age             0.0164     0.0331  0.4949 0.6207      -0.0485      0.0812\n",
      "ihr             0.1436     0.2273  0.6315 0.5277      -0.3020      0.5891\n",
      "NN_RR         -59.8385    42.8357 -1.3969 0.1624    -143.7949     24.1179\n",
      "AVNN            0.0124     0.0170  0.7295 0.4657      -0.0209      0.0458\n",
      "SDNN            0.0341     0.0423  0.8048 0.4209      -0.0489      0.1171\n",
      "VLF            -0.0003     0.0002 -1.3952 0.1630      -0.0006      0.0001\n",
      "LF             -0.0002     0.0005 -0.4820 0.6298      -0.0012      0.0007\n",
      "HF             -0.0003     0.0006 -0.4140 0.6788      -0.0015      0.0010\n",
      "HF_n           -1.1245     2.4687 -0.4555 0.6487      -5.9631      3.7140\n",
      "LF_HF       19118.0783 53565.9103  0.3569 0.7212  -85869.1767 124105.3333\n",
      "LFdivideHF -19118.1348 53565.8840 -0.3569 0.7212 -124105.3382  85869.0686\n",
      "=========================================================================\n",
      "\n"
     ]
    },
    {
     "name": "stderr",
     "output_type": "stream",
     "text": [
      "/anaconda3/lib/python3.6/site-packages/statsmodels/base/model.py:508: ConvergenceWarning: Maximum Likelihood optimization failed to converge. Check mle_retvals\n",
      "  \"Check mle_retvals\", ConvergenceWarning)\n"
     ]
    }
   ],
   "source": [
    "import statsmodels.api as sm\n",
    "logit_model=sm.Logit(y,X)\n",
    "result=logit_model.fit()\n",
    "print(result.summary2())"
   ]
  },
  {
   "cell_type": "code",
   "execution_count": 53,
   "metadata": {},
   "outputs": [
    {
     "name": "stderr",
     "output_type": "stream",
     "text": [
      "/anaconda3/lib/python3.6/site-packages/sklearn/linear_model/logistic.py:433: FutureWarning: Default solver will be changed to 'lbfgs' in 0.22. Specify a solver to silence this warning.\n",
      "  FutureWarning)\n"
     ]
    },
    {
     "data": {
      "text/plain": [
       "LogisticRegression(C=1.0, class_weight=None, dual=False, fit_intercept=True,\n",
       "          intercept_scaling=1, max_iter=100, multi_class='warn',\n",
       "          n_jobs=None, penalty='l2', random_state=None, solver='warn',\n",
       "          tol=0.0001, verbose=0, warm_start=False)"
      ]
     },
     "execution_count": 53,
     "metadata": {},
     "output_type": "execute_result"
    }
   ],
   "source": [
    "from sklearn.linear_model import LogisticRegression\n",
    "from sklearn import metrics\n",
    "X_train, X_test, y_train, y_test = train_test_split(X, y, test_size=0.3, random_state=0)\n",
    "logreg = LogisticRegression()\n",
    "logreg.fit(X_train, y_train)"
   ]
  },
  {
   "cell_type": "code",
   "execution_count": 54,
   "metadata": {},
   "outputs": [
    {
     "name": "stdout",
     "output_type": "stream",
     "text": [
      "Accuracy of logistic regression classifier on test set: 0.99\n"
     ]
    }
   ],
   "source": [
    "y_pred = logreg.predict(X_test)\n",
    "print('Accuracy of logistic regression classifier on test set: {:.2f}'.format(logreg.score(X_test, y_test)))"
   ]
  },
  {
   "cell_type": "code",
   "execution_count": 55,
   "metadata": {},
   "outputs": [
    {
     "name": "stdout",
     "output_type": "stream",
     "text": [
      "[[  0   2]\n",
      " [  0 133]]\n"
     ]
    }
   ],
   "source": [
    "from sklearn.metrics import confusion_matrix\n",
    "confusion_matrix = confusion_matrix(y_test, y_pred)\n",
    "print(confusion_matrix)"
   ]
  },
  {
   "cell_type": "markdown",
   "metadata": {},
   "source": [
    "# Linear Regression for LF/HF and Age"
   ]
  },
  {
   "cell_type": "code",
   "execution_count": 24,
   "metadata": {},
   "outputs": [
    {
     "name": "stderr",
     "output_type": "stream",
     "text": [
      "/anaconda3/lib/python3.6/site-packages/ipykernel_launcher.py:1: SettingWithCopyWarning: \n",
      "A value is trying to be set on a copy of a slice from a DataFrame.\n",
      "Try using .loc[row_indexer,col_indexer] = value instead\n",
      "\n",
      "See the caveats in the documentation: http://pandas.pydata.org/pandas-docs/stable/indexing.html#indexing-view-versus-copy\n",
      "  \"\"\"Entry point for launching an IPython kernel.\n"
     ]
    },
    {
     "data": {
      "text/html": [
       "<div>\n",
       "<style scoped>\n",
       "    .dataframe tbody tr th:only-of-type {\n",
       "        vertical-align: middle;\n",
       "    }\n",
       "\n",
       "    .dataframe tbody tr th {\n",
       "        vertical-align: top;\n",
       "    }\n",
       "\n",
       "    .dataframe thead th {\n",
       "        text-align: right;\n",
       "    }\n",
       "</style>\n",
       "<table border=\"1\" class=\"dataframe\">\n",
       "  <thead>\n",
       "    <tr style=\"text-align: right;\">\n",
       "      <th></th>\n",
       "      <th>nsrrid</th>\n",
       "      <th>Gender</th>\n",
       "      <th>Race</th>\n",
       "      <th>Age</th>\n",
       "      <th>BLUE25</th>\n",
       "      <th>ihr</th>\n",
       "      <th>NN_RR</th>\n",
       "      <th>AVNN</th>\n",
       "      <th>SDNN</th>\n",
       "      <th>VLF</th>\n",
       "      <th>LF</th>\n",
       "      <th>HF</th>\n",
       "      <th>HF_n</th>\n",
       "      <th>LF_HF</th>\n",
       "      <th>LFdivideHF</th>\n",
       "    </tr>\n",
       "  </thead>\n",
       "  <tbody>\n",
       "    <tr>\n",
       "      <th>0</th>\n",
       "      <td>200079</td>\n",
       "      <td>2</td>\n",
       "      <td>3</td>\n",
       "      <td>56</td>\n",
       "      <td>1.0</td>\n",
       "      <td>75.112951</td>\n",
       "      <td>0.992000</td>\n",
       "      <td>798.797</td>\n",
       "      <td>46.21180</td>\n",
       "      <td>695.6390</td>\n",
       "      <td>285.53000</td>\n",
       "      <td>827.04600</td>\n",
       "      <td>0.743361</td>\n",
       "      <td>0.345241</td>\n",
       "      <td>0.345241</td>\n",
       "    </tr>\n",
       "    <tr>\n",
       "      <th>2</th>\n",
       "      <td>200082</td>\n",
       "      <td>1</td>\n",
       "      <td>1</td>\n",
       "      <td>40</td>\n",
       "      <td>1.0</td>\n",
       "      <td>59.355400</td>\n",
       "      <td>0.996610</td>\n",
       "      <td>1010.860</td>\n",
       "      <td>39.43320</td>\n",
       "      <td>739.2121</td>\n",
       "      <td>531.02400</td>\n",
       "      <td>242.83100</td>\n",
       "      <td>0.313794</td>\n",
       "      <td>2.186800</td>\n",
       "      <td>2.186805</td>\n",
       "    </tr>\n",
       "    <tr>\n",
       "      <th>4</th>\n",
       "      <td>200108</td>\n",
       "      <td>2</td>\n",
       "      <td>1</td>\n",
       "      <td>60</td>\n",
       "      <td>1.0</td>\n",
       "      <td>64.954397</td>\n",
       "      <td>0.990741</td>\n",
       "      <td>923.725</td>\n",
       "      <td>27.72130</td>\n",
       "      <td>532.0790</td>\n",
       "      <td>168.40600</td>\n",
       "      <td>81.90150</td>\n",
       "      <td>0.327204</td>\n",
       "      <td>2.056200</td>\n",
       "      <td>2.056202</td>\n",
       "    </tr>\n",
       "    <tr>\n",
       "      <th>6</th>\n",
       "      <td>200109</td>\n",
       "      <td>2</td>\n",
       "      <td>1</td>\n",
       "      <td>71</td>\n",
       "      <td>1.0</td>\n",
       "      <td>76.865428</td>\n",
       "      <td>0.997389</td>\n",
       "      <td>780.585</td>\n",
       "      <td>8.41453</td>\n",
       "      <td>55.3561</td>\n",
       "      <td>8.87934</td>\n",
       "      <td>4.38036</td>\n",
       "      <td>0.330351</td>\n",
       "      <td>2.027080</td>\n",
       "      <td>2.027080</td>\n",
       "    </tr>\n",
       "    <tr>\n",
       "      <th>8</th>\n",
       "      <td>200112</td>\n",
       "      <td>1</td>\n",
       "      <td>1</td>\n",
       "      <td>48</td>\n",
       "      <td>1.0</td>\n",
       "      <td>62.348286</td>\n",
       "      <td>0.996785</td>\n",
       "      <td>962.336</td>\n",
       "      <td>88.53440</td>\n",
       "      <td>3987.3524</td>\n",
       "      <td>3269.69000</td>\n",
       "      <td>292.34900</td>\n",
       "      <td>0.082073</td>\n",
       "      <td>11.184200</td>\n",
       "      <td>11.184201</td>\n",
       "    </tr>\n",
       "  </tbody>\n",
       "</table>\n",
       "</div>"
      ],
      "text/plain": [
       "   nsrrid  Gender  Race  Age  BLUE25        ihr     NN_RR      AVNN      SDNN  \\\n",
       "0  200079       2     3   56     1.0  75.112951  0.992000   798.797  46.21180   \n",
       "2  200082       1     1   40     1.0  59.355400  0.996610  1010.860  39.43320   \n",
       "4  200108       2     1   60     1.0  64.954397  0.990741   923.725  27.72130   \n",
       "6  200109       2     1   71     1.0  76.865428  0.997389   780.585   8.41453   \n",
       "8  200112       1     1   48     1.0  62.348286  0.996785   962.336  88.53440   \n",
       "\n",
       "         VLF          LF         HF      HF_n      LF_HF  LFdivideHF  \n",
       "0   695.6390   285.53000  827.04600  0.743361   0.345241    0.345241  \n",
       "2   739.2121   531.02400  242.83100  0.313794   2.186800    2.186805  \n",
       "4   532.0790   168.40600   81.90150  0.327204   2.056200    2.056202  \n",
       "6    55.3561     8.87934    4.38036  0.330351   2.027080    2.027080  \n",
       "8  3987.3524  3269.69000  292.34900  0.082073  11.184200   11.184201  "
      ]
     },
     "execution_count": 24,
     "metadata": {},
     "output_type": "execute_result"
    }
   ],
   "source": [
    "dep_data['LFdivideHF'] = dep_data['LF'] / dep_data['HF']\n",
    "dep_data.head()"
   ]
  },
  {
   "cell_type": "code",
   "execution_count": 25,
   "metadata": {},
   "outputs": [],
   "source": [
    "X_linear = dep_data.Age.values.reshape(-1, 1)\n",
    "y_linear = dep_data.LFdivideHF.values.reshape(-1, 1)"
   ]
  },
  {
   "cell_type": "code",
   "execution_count": 26,
   "metadata": {},
   "outputs": [
    {
     "name": "stdout",
     "output_type": "stream",
     "text": [
      "R2 Score: 0.00038318735629827577\n"
     ]
    }
   ],
   "source": [
    "from sklearn.linear_model import LinearRegression\n",
    "model = LinearRegression()\n",
    "\n",
    "# Fitting our model with all of our features in X\n",
    "model.fit(X_linear, y_linear)\n",
    "\n",
    "score = model.score(X_linear, y_linear)\n",
    "print(f\"R2 Score: {score}\")"
   ]
  },
  {
   "cell_type": "code",
   "execution_count": 27,
   "metadata": {},
   "outputs": [
    {
     "data": {
      "image/png": "[encoded data removed]",
      "text/plain": [
       "<Figure size 432x288 with 1 Axes>"
      ]
     },
     "metadata": {},
     "output_type": "display_data"
    }
   ],
   "source": [
    "predictions = model.predict(X_linear)\n",
    "# Plot Residuals\n",
    "plt.scatter(predictions, predictions - y_linear)\n",
    "plt.hlines(y=0, xmin=predictions.min(), xmax=predictions.max())\n",
    "plt.show()"
   ]
  },
  {
   "cell_type": "code",
   "execution_count": 28,
   "metadata": {},
   "outputs": [
    {
     "data": {
      "text/plain": [
       "<matplotlib.collections.PathCollection at 0x1c2599bfd0>"
      ]
     },
     "execution_count": 28,
     "metadata": {},
     "output_type": "execute_result"
    },
    {
     "data": {
      "image/png": "[encoded data removed]",
      "text/plain": [
       "<Figure size 432x288 with 1 Axes>"
      ]
     },
     "metadata": {},
     "output_type": "display_data"
    }
   ],
   "source": [
    "plt.scatter(X_linear, y_linear)"
   ]
  },
  {
   "cell_type": "code",
   "execution_count": 29,
   "metadata": {},
   "outputs": [
    {
     "name": "stdout",
     "output_type": "stream",
     "text": [
      "Weight coefficients:  [[-0.00506599]]\n",
      "y-axis intercept:  [2.54851357]\n"
     ]
    }
   ],
   "source": [
    "print('Weight coefficients: ', model.coef_)\n",
    "print('y-axis intercept: ', model.intercept_)"
   ]
  },
  {
   "cell_type": "code",
   "execution_count": 30,
   "metadata": {},
   "outputs": [
    {
     "name": "stdout",
     "output_type": "stream",
     "text": [
      "Min X Value: [[39]]\n",
      "Max X Value: [[83]]\n"
     ]
    }
   ],
   "source": [
    "x_min = np.array([[X_linear.min()]])\n",
    "x_max = np.array([[X_linear.max()]])\n",
    "print(f\"Min X Value: {x_min}\")\n",
    "print(f\"Max X Value: {x_max}\")"
   ]
  },
  {
   "cell_type": "code",
   "execution_count": 31,
   "metadata": {},
   "outputs": [],
   "source": [
    "y_min = model.predict(x_min)\n",
    "y_max = model.predict(x_max)"
   ]
  },
  {
   "cell_type": "code",
   "execution_count": 32,
   "metadata": {},
   "outputs": [
    {
     "data": {
      "text/plain": [
       "[<matplotlib.lines.Line2D at 0x1c258ea7b8>]"
      ]
     },
     "execution_count": 32,
     "metadata": {},
     "output_type": "execute_result"
    },
    {
     "data": {
      "image/png": "[encoded data removed]",
      "text/plain": [
       "<Figure size 432x288 with 1 Axes>"
      ]
     },
     "metadata": {},
     "output_type": "display_data"
    }
   ],
   "source": [
    "plt.scatter(X_linear, y_linear, c='blue')\n",
    "plt.plot([x_min[0], x_max[0]], [y_min[0], y_max[0]], c='red')"
   ]
  },
  {
   "cell_type": "code",
   "execution_count": null,
   "metadata": {},
   "outputs": [],
   "source": []
  },
  {
   "cell_type": "code",
   "execution_count": null,
   "metadata": {},
   "outputs": [],
   "source": []
  },
  {
   "cell_type": "code",
   "execution_count": null,
   "metadata": {},
   "outputs": [],
   "source": []
  }
 ],
 "metadata": {
  "kernelspec": {
   "display_name": "Python 3",
   "language": "python",
   "name": "python3"
  },
  "language_info": {
   "codemirror_mode": {
    "name": "ipython",
    "version": 3
   },
   "file_extension": ".py",
   "mimetype": "text/x-python",
   "name": "python",
   "nbconvert_exporter": "python",
   "pygments_lexer": "ipython3",
   "version": "3.6.8"
  }
 },
 "nbformat": 4,
 "nbformat_minor": 2
}
